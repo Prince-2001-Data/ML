{
 "cells": [
  {
   "cell_type": "code",
   "execution_count": 62,
   "id": "203697ad-6fb4-4c8c-941e-627789e5aa83",
   "metadata": {},
   "outputs": [],
   "source": [
    "import torch"
   ]
  },
  {
   "cell_type": "code",
   "execution_count": 63,
   "id": "b7c8fb0e-aabc-4a6d-9b88-77e6f92726fd",
   "metadata": {},
   "outputs": [],
   "source": [
    "import torch.nn as nn"
   ]
  },
  {
   "cell_type": "code",
   "execution_count": 64,
   "id": "4d17fbb8-7c28-4291-96f7-42f66cfe1faa",
   "metadata": {},
   "outputs": [],
   "source": [
    "import torchvision"
   ]
  },
  {
   "cell_type": "code",
   "execution_count": 65,
   "id": "21d53029-1778-4823-923c-085eab05140c",
   "metadata": {},
   "outputs": [],
   "source": [
    "import torchvision.transforms as transform"
   ]
  },
  {
   "cell_type": "code",
   "execution_count": 66,
   "id": "f690b11d-faf4-4b53-95c1-f82ef36b9eee",
   "metadata": {},
   "outputs": [],
   "source": [
    "import matplotlib.pyplot as plt"
   ]
  },
  {
   "cell_type": "code",
   "execution_count": 67,
   "id": "ed7ca5c5-2894-494a-829f-7437d60eb788",
   "metadata": {},
   "outputs": [
    {
     "data": {
      "text/plain": [
       "device(type='cpu')"
      ]
     },
     "execution_count": 67,
     "metadata": {},
     "output_type": "execute_result"
    }
   ],
   "source": [
    "#device config\n",
    "device = torch.device('cuda' if torch.cuda.is_available() else 'cpu')\n",
    "device"
   ]
  },
  {
   "cell_type": "code",
   "execution_count": 68,
   "id": "f277cbb2-e156-439b-8347-3dcf973ebfb9",
   "metadata": {},
   "outputs": [],
   "source": [
    "# Hyper parameters\n",
    "input_size = 784\n",
    "hidden_size = 100\n",
    "num_classes = 10\n",
    "num_epochs = 2\n",
    "batch_size = 100\n",
    "learning_rate = 0.01"
   ]
  },
  {
   "cell_type": "code",
   "execution_count": 69,
   "id": "58aa7c02-63c6-4af7-9795-4faf8d396a11",
   "metadata": {},
   "outputs": [],
   "source": [
    "#Load MNIST Data\n",
    "train_data = torchvision.datasets.MNIST(root='./Downloads',train = True,transform=transform.ToTensor())"
   ]
  },
  {
   "cell_type": "code",
   "execution_count": 70,
   "id": "2a763cd8-7177-4498-9418-63b8ead22134",
   "metadata": {},
   "outputs": [],
   "source": [
    "test_data = torchvision.datasets.MNIST(root='./Downloads',train = False,transform=transform.ToTensor())"
   ]
  },
  {
   "cell_type": "code",
   "execution_count": 71,
   "id": "4ad2830c-94c7-4742-b6c3-ee7e4a6546e5",
   "metadata": {},
   "outputs": [],
   "source": [
    "train_loader = torch.utils.data.DataLoader(dataset=train_data,batch_size=batch_size,shuffle=True)"
   ]
  },
  {
   "cell_type": "code",
   "execution_count": 72,
   "id": "6dc98406-f2ad-4ed3-9bdd-02deae2aebdc",
   "metadata": {},
   "outputs": [],
   "source": [
    "test_loader = torch.utils.data.DataLoader(dataset=test_data,batch_size=batch_size,shuffle=False)"
   ]
  },
  {
   "cell_type": "code",
   "execution_count": 73,
   "id": "d9f392dc-e071-45f9-a466-48aa28faa4b2",
   "metadata": {},
   "outputs": [
    {
     "name": "stdout",
     "output_type": "stream",
     "text": [
      "torch.Size([100, 1, 28, 28]) torch.Size([100])\n"
     ]
    }
   ],
   "source": [
    "examples = iter(train_loader)\n",
    "samples, labels = examples.next()\n",
    "print(samples.shape, labels.shape)"
   ]
  },
  {
   "cell_type": "code",
   "execution_count": 74,
   "id": "60b47e2a-f2b4-4c96-b62f-21f6990b99ff",
   "metadata": {},
   "outputs": [
    {
     "data": {
      "image/png": "[encoded data removed]",
      "text/plain": [
       "<Figure size 640x480 with 6 Axes>"
      ]
     },
     "metadata": {},
     "output_type": "display_data"
    }
   ],
   "source": [
    "for i in range(6):\n",
    "    plt.subplot(2,3,i+1)\n",
    "    plt.imshow(samples[i][0],cmap='gray')\n",
    "    plt.tight_layout()\n",
    "plt.show()"
   ]
  },
  {
   "cell_type": "code",
   "execution_count": 75,
   "id": "8359e6e7-5c15-4b33-b278-91ddd2a758ea",
   "metadata": {},
   "outputs": [],
   "source": [
    "#Create MUltiNeural Network\n",
    "\n",
    "class NeuralNet(nn.Module):\n",
    "    def __init__(self,input_size,hidden_size,num_classes):\n",
    "        super(NeuralNet,self).__init__()\n",
    "        self.l1 = nn.Linear(input_size,hidden_size)\n",
    "        self.relu = nn.ReLU()\n",
    "        self.l2 = nn.Linear(hidden_size,num_classes)\n",
    "    def forward(self,x):\n",
    "        out = self.l1(x)\n",
    "        out = self.relu(out)\n",
    "        out = self.l2(out)\n",
    "        return out\n",
    "model = NeuralNet(input_size,hidden_size,num_classes)"
   ]
  },
  {
   "cell_type": "code",
   "execution_count": 76,
   "id": "e30ec145-47e7-4b7e-b6d4-f589fba07d9e",
   "metadata": {},
   "outputs": [],
   "source": [
    "# Loss and ooptimizer\n",
    "criterion = nn.CrossEntropyLoss()\n",
    "optimizer = torch.optim.Adam(model.parameters(),lr=learning_rate)"
   ]
  },
  {
   "cell_type": "code",
   "execution_count": 77,
   "id": "7c9879d9-1850-4023-97f9-817fe90cfe24",
   "metadata": {},
   "outputs": [
    {
     "name": "stdout",
     "output_type": "stream",
     "text": [
      "epoch 1/2, step 10/600,loss = 0.6638\n",
      "epoch 1/2, step 20/600,loss = 0.4972\n",
      "epoch 1/2, step 30/600,loss = 0.5627\n",
      "epoch 1/2, step 40/600,loss = 0.5272\n",
      "epoch 1/2, step 50/600,loss = 0.5516\n",
      "epoch 1/2, step 60/600,loss = 0.4370\n",
      "epoch 1/2, step 70/600,loss = 0.2509\n",
      "epoch 1/2, step 80/600,loss = 0.3937\n",
      "epoch 1/2, step 90/600,loss = 0.3146\n",
      "epoch 1/2, step 100/600,loss = 0.4141\n",
      "epoch 1/2, step 110/600,loss = 0.1926\n",
      "epoch 1/2, step 120/600,loss = 0.2797\n",
      "epoch 1/2, step 130/600,loss = 0.1513\n",
      "epoch 1/2, step 140/600,loss = 0.2955\n",
      "epoch 1/2, step 150/600,loss = 0.2037\n",
      "epoch 1/2, step 160/600,loss = 0.1649\n",
      "epoch 1/2, step 170/600,loss = 0.2724\n",
      "epoch 1/2, step 180/600,loss = 0.1704\n",
      "epoch 1/2, step 190/600,loss = 0.1992\n",
      "epoch 1/2, step 200/600,loss = 0.2016\n",
      "epoch 1/2, step 210/600,loss = 0.2886\n",
      "epoch 1/2, step 220/600,loss = 0.2114\n",
      "epoch 1/2, step 230/600,loss = 0.1640\n",
      "epoch 1/2, step 240/600,loss = 0.2848\n",
      "epoch 1/2, step 250/600,loss = 0.1914\n",
      "epoch 1/2, step 260/600,loss = 0.1586\n",
      "epoch 1/2, step 270/600,loss = 0.1696\n",
      "epoch 1/2, step 280/600,loss = 0.1667\n",
      "epoch 1/2, step 290/600,loss = 0.1688\n",
      "epoch 1/2, step 300/600,loss = 0.2401\n",
      "epoch 1/2, step 310/600,loss = 0.1849\n",
      "epoch 1/2, step 320/600,loss = 0.1200\n",
      "epoch 1/2, step 330/600,loss = 0.0844\n",
      "epoch 1/2, step 340/600,loss = 0.2753\n",
      "epoch 1/2, step 350/600,loss = 0.1653\n",
      "epoch 1/2, step 360/600,loss = 0.1078\n",
      "epoch 1/2, step 370/600,loss = 0.1634\n",
      "epoch 1/2, step 380/600,loss = 0.2138\n",
      "epoch 1/2, step 390/600,loss = 0.1551\n",
      "epoch 1/2, step 400/600,loss = 0.0659\n",
      "epoch 1/2, step 410/600,loss = 0.1928\n",
      "epoch 1/2, step 420/600,loss = 0.1743\n",
      "epoch 1/2, step 430/600,loss = 0.1429\n",
      "epoch 1/2, step 440/600,loss = 0.1974\n",
      "epoch 1/2, step 450/600,loss = 0.1159\n",
      "epoch 1/2, step 460/600,loss = 0.0793\n",
      "epoch 1/2, step 470/600,loss = 0.1153\n",
      "epoch 1/2, step 480/600,loss = 0.2161\n",
      "epoch 1/2, step 490/600,loss = 0.0733\n",
      "epoch 1/2, step 500/600,loss = 0.0620\n",
      "epoch 1/2, step 510/600,loss = 0.1024\n",
      "epoch 1/2, step 520/600,loss = 0.0368\n",
      "epoch 1/2, step 530/600,loss = 0.1778\n",
      "epoch 1/2, step 540/600,loss = 0.0710\n",
      "epoch 1/2, step 550/600,loss = 0.0679\n",
      "epoch 1/2, step 560/600,loss = 0.1361\n",
      "epoch 1/2, step 570/600,loss = 0.3136\n",
      "epoch 1/2, step 580/600,loss = 0.1702\n",
      "epoch 1/2, step 590/600,loss = 0.1164\n",
      "epoch 1/2, step 600/600,loss = 0.1306\n",
      "epoch 2/2, step 10/600,loss = 0.1604\n",
      "epoch 2/2, step 20/600,loss = 0.0987\n",
      "epoch 2/2, step 30/600,loss = 0.0696\n",
      "epoch 2/2, step 40/600,loss = 0.0235\n",
      "epoch 2/2, step 50/600,loss = 0.2068\n",
      "epoch 2/2, step 60/600,loss = 0.1572\n",
      "epoch 2/2, step 70/600,loss = 0.1116\n",
      "epoch 2/2, step 80/600,loss = 0.2232\n",
      "epoch 2/2, step 90/600,loss = 0.0720\n",
      "epoch 2/2, step 100/600,loss = 0.1249\n",
      "epoch 2/2, step 110/600,loss = 0.1785\n",
      "epoch 2/2, step 120/600,loss = 0.1320\n",
      "epoch 2/2, step 130/600,loss = 0.0533\n",
      "epoch 2/2, step 140/600,loss = 0.1042\n",
      "epoch 2/2, step 150/600,loss = 0.1725\n",
      "epoch 2/2, step 160/600,loss = 0.0509\n",
      "epoch 2/2, step 170/600,loss = 0.2631\n",
      "epoch 2/2, step 180/600,loss = 0.2705\n",
      "epoch 2/2, step 190/600,loss = 0.0284\n",
      "epoch 2/2, step 200/600,loss = 0.0912\n",
      "epoch 2/2, step 210/600,loss = 0.0413\n",
      "epoch 2/2, step 220/600,loss = 0.0427\n",
      "epoch 2/2, step 230/600,loss = 0.0612\n",
      "epoch 2/2, step 240/600,loss = 0.0153\n",
      "epoch 2/2, step 250/600,loss = 0.1187\n",
      "epoch 2/2, step 260/600,loss = 0.0793\n",
      "epoch 2/2, step 270/600,loss = 0.1058\n",
      "epoch 2/2, step 280/600,loss = 0.0869\n",
      "epoch 2/2, step 290/600,loss = 0.1316\n",
      "epoch 2/2, step 300/600,loss = 0.1701\n",
      "epoch 2/2, step 310/600,loss = 0.0854\n",
      "epoch 2/2, step 320/600,loss = 0.0701\n",
      "epoch 2/2, step 330/600,loss = 0.2823\n",
      "epoch 2/2, step 340/600,loss = 0.1340\n",
      "epoch 2/2, step 350/600,loss = 0.0348\n",
      "epoch 2/2, step 360/600,loss = 0.1880\n",
      "epoch 2/2, step 370/600,loss = 0.1614\n",
      "epoch 2/2, step 380/600,loss = 0.0797\n",
      "epoch 2/2, step 390/600,loss = 0.1188\n",
      "epoch 2/2, step 400/600,loss = 0.0992\n",
      "epoch 2/2, step 410/600,loss = 0.1742\n",
      "epoch 2/2, step 420/600,loss = 0.1209\n",
      "epoch 2/2, step 430/600,loss = 0.1662\n",
      "epoch 2/2, step 440/600,loss = 0.0572\n",
      "epoch 2/2, step 450/600,loss = 0.0273\n",
      "epoch 2/2, step 460/600,loss = 0.1257\n",
      "epoch 2/2, step 470/600,loss = 0.1499\n",
      "epoch 2/2, step 480/600,loss = 0.0692\n",
      "epoch 2/2, step 490/600,loss = 0.0280\n",
      "epoch 2/2, step 500/600,loss = 0.0583\n",
      "epoch 2/2, step 510/600,loss = 0.0648\n",
      "epoch 2/2, step 520/600,loss = 0.1053\n",
      "epoch 2/2, step 530/600,loss = 0.0708\n",
      "epoch 2/2, step 540/600,loss = 0.0848\n",
      "epoch 2/2, step 550/600,loss = 0.1875\n",
      "epoch 2/2, step 560/600,loss = 0.1273\n",
      "epoch 2/2, step 570/600,loss = 0.1863\n",
      "epoch 2/2, step 580/600,loss = 0.0151\n",
      "epoch 2/2, step 590/600,loss = 0.0998\n",
      "epoch 2/2, step 600/600,loss = 0.0566\n"
     ]
    }
   ],
   "source": [
    "#Training loop\n",
    "\n",
    "n_total_steps = len(train_loader)\n",
    "for epoch in range(num_epochs):\n",
    "    for i,(images,labels) in enumerate(train_loader):\n",
    "        #Reshape Image in 150,784\n",
    "        images = images.reshape(-1,28*28).to(device)\n",
    "        labels = labels.to(device)\n",
    "        #Forward Pass\n",
    "        outputs = model(images)\n",
    "        loss = criterion(outputs,labels)\n",
    "        #Backward Loss\n",
    "        optimizer.zero_grad()\n",
    "        loss.backward()\n",
    "        optimizer.step()\n",
    "        if (i+1)%10==0:\n",
    "            print(f'epoch {epoch+1}/{num_epochs}, step {i+1}/{n_total_steps},loss = {loss.item():.4f}')"
   ]
  },
  {
   "cell_type": "code",
   "execution_count": 111,
   "id": "87135795-ddc0-417e-915a-9d95a3dd6c1c",
   "metadata": {},
   "outputs": [
    {
     "name": "stdout",
     "output_type": "stream",
     "text": [
      "accuracy 96.93\n"
     ]
    }
   ],
   "source": [
    "# Testing \n",
    "\n",
    "with torch.no_grad():\n",
    "    n_correct = 0\n",
    "    n_samples = 0\n",
    "    for images, labels in test_loader:\n",
    "        images = images.reshape(-1,28*28).to(device)\n",
    "        labels = labels.to(device)\n",
    "        outputs = model(images)\n",
    "        _, predictions = torch.max(outputs,1)\n",
    "        n_samples += labels.shape[0]\n",
    "        n_correct += (predictions==labels).sum().item()\n",
    "    acc = 100.0*n_correct/n_samples\n",
    "    print(f'accuracy {acc:.2f}')"
   ]
  }
 ],
 "metadata": {
  "kernelspec": {
   "display_name": "Python 3 (ipykernel)",
   "language": "python",
   "name": "python3"
  },
  "language_info": {
   "codemirror_mode": {
    "name": "ipython",
    "version": 3
   },
   "file_extension": ".py",
   "mimetype": "text/x-python",
   "name": "python",
   "nbconvert_exporter": "python",
   "pygments_lexer": "ipython3",
   "version": "3.10.16"
  }
 },
 "nbformat": 4,
 "nbformat_minor": 5
}
